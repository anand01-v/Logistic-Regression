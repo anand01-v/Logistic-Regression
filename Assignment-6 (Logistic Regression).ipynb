{
 "cells": [
  {
   "cell_type": "markdown",
   "id": "046de4ca",
   "metadata": {},
   "source": [
    "## Output variable -> y\n",
    "    \n",
    "    y -> Whether the client has subscribed a term deposit or not \n",
    "    Binomial (\"yes\" or \"no\")\n",
    "    \n",
    "    \n",
    "### Attribute information For bank dataset\n",
    "\n",
    "Input variables:\n",
    "       \n",
    "### bank client data:\n",
    "- 1 - age (numeric)\n",
    "- 2 - job : type of job (categorical: \"admin.\",\"unknown\",\"unemployed\",\"management\",\"housemaid\",\"entrepreneur\",\"student\",\"blue-collar\",\"self-employed\",\"retired\",\"technician\",\"services\") \n",
    "- 3 - marital : marital status (categorical: \"married\",\"divorced\",\"single\"; note: \"divorced\" means divorced or widowed)\n",
    "- 4 - education (categorical: \"unknown\",\"secondary\",\"primary\",\"tertiary\")\n",
    "- 5 - default: has credit in default? (binary: \"yes\",\"no\")\n",
    "- 6 - balance: average yearly balance, in euros (numeric) \n",
    "- 7 - housing: has housing loan? (binary: \"yes\",\"no\")\n",
    "- 8 - loan: has personal loan? (binary: \"yes\",\"no\")\n",
    "       \n",
    "### related with the last contact of the current campaign:\n",
    "- 9 - contact: contact communication type (categorical: \"unknown\",\"telephone\",\"cellular\") \n",
    "- 10 - day: last contact day of the month (numeric)\n",
    "- 11 - month: last contact month of year (categorical: \"jan\", \"feb\", \"mar\", ..., \"nov\", \"dec\")\n",
    "- 12 - duration: last contact duration, in seconds (numeric)\n",
    "   \n",
    "   \n",
    "### other attributes:\n",
    "- 13 - campaign: number of contacts performed during this campaign and for this client (numeric, includes last contact)\n",
    "- 14 - pdays: number of days that passed by after the client was last contacted from a previous campaign (numeric, -1 means client was not previously contacted)\n",
    "- 15 - previous: number of contacts performed before this campaign and for this client (numeric)\n",
    "- 16 - poutcome: outcome of the previous marketing campaign (categorical: \"unknown\",\"other\",\"failure\",\"success\")\n",
    "\n",
    "### Output variable (desired target):\n",
    "- 17 - y - has the client subscribed a term deposit? (binary: \"yes\",\"no\")"
   ]
  },
  {
   "cell_type": "code",
   "execution_count": 1,
   "id": "9e0af7dc",
   "metadata": {
    "ExecuteTime": {
     "end_time": "2023-05-13T04:42:43.209416Z",
     "start_time": "2023-05-13T04:42:39.825750Z"
    }
   },
   "outputs": [],
   "source": [
    "# Importing the required libraries \n",
    "\n",
    "import pandas as pd, numpy as np\n",
    "import seaborn as sns, matplotlib.pyplot as plt\n",
    "\n",
    "from sklearn.linear_model import LogisticRegression\n",
    "from sklearn import metrics\n",
    "from sklearn.metrics import classification_report\n",
    "from sklearn.metrics import roc_auc_score\n",
    "from sklearn.metrics import roc_curve"
   ]
  },
  {
   "cell_type": "code",
   "execution_count": 2,
   "id": "d1b8e03d",
   "metadata": {
    "ExecuteTime": {
     "end_time": "2023-05-13T04:42:43.225902Z",
     "start_time": "2023-05-13T04:42:43.209416Z"
    }
   },
   "outputs": [],
   "source": [
    "# Removing warnings if any\n",
    "import warnings\n",
    "warnings.filterwarnings('ignore')"
   ]
  },
  {
   "cell_type": "code",
   "execution_count": 3,
   "id": "bbbc65d9",
   "metadata": {
    "ExecuteTime": {
     "end_time": "2023-05-13T04:42:43.370182Z",
     "start_time": "2023-05-13T04:42:43.226680Z"
    }
   },
   "outputs": [
    {
     "data": {
      "text/html": [
       "<div>\n",
       "<style scoped>\n",
       "    .dataframe tbody tr th:only-of-type {\n",
       "        vertical-align: middle;\n",
       "    }\n",
       "\n",
       "    .dataframe tbody tr th {\n",
       "        vertical-align: top;\n",
       "    }\n",
       "\n",
       "    .dataframe thead th {\n",
       "        text-align: right;\n",
       "    }\n",
       "</style>\n",
       "<table border=\"1\" class=\"dataframe\">\n",
       "  <thead>\n",
       "    <tr style=\"text-align: right;\">\n",
       "      <th></th>\n",
       "      <th>age</th>\n",
       "      <th>job</th>\n",
       "      <th>marital</th>\n",
       "      <th>education</th>\n",
       "      <th>default</th>\n",
       "      <th>balance</th>\n",
       "      <th>housing</th>\n",
       "      <th>loan</th>\n",
       "      <th>contact</th>\n",
       "      <th>day</th>\n",
       "      <th>month</th>\n",
       "      <th>duration</th>\n",
       "      <th>campaign</th>\n",
       "      <th>pdays</th>\n",
       "      <th>previous</th>\n",
       "      <th>poutcome</th>\n",
       "      <th>y</th>\n",
       "    </tr>\n",
       "  </thead>\n",
       "  <tbody>\n",
       "    <tr>\n",
       "      <th>0</th>\n",
       "      <td>58</td>\n",
       "      <td>management</td>\n",
       "      <td>married</td>\n",
       "      <td>tertiary</td>\n",
       "      <td>no</td>\n",
       "      <td>2143</td>\n",
       "      <td>yes</td>\n",
       "      <td>no</td>\n",
       "      <td>unknown</td>\n",
       "      <td>5</td>\n",
       "      <td>may</td>\n",
       "      <td>261</td>\n",
       "      <td>1</td>\n",
       "      <td>-1</td>\n",
       "      <td>0</td>\n",
       "      <td>unknown</td>\n",
       "      <td>no</td>\n",
       "    </tr>\n",
       "    <tr>\n",
       "      <th>1</th>\n",
       "      <td>44</td>\n",
       "      <td>technician</td>\n",
       "      <td>single</td>\n",
       "      <td>secondary</td>\n",
       "      <td>no</td>\n",
       "      <td>29</td>\n",
       "      <td>yes</td>\n",
       "      <td>no</td>\n",
       "      <td>unknown</td>\n",
       "      <td>5</td>\n",
       "      <td>may</td>\n",
       "      <td>151</td>\n",
       "      <td>1</td>\n",
       "      <td>-1</td>\n",
       "      <td>0</td>\n",
       "      <td>unknown</td>\n",
       "      <td>no</td>\n",
       "    </tr>\n",
       "    <tr>\n",
       "      <th>2</th>\n",
       "      <td>33</td>\n",
       "      <td>entrepreneur</td>\n",
       "      <td>married</td>\n",
       "      <td>secondary</td>\n",
       "      <td>no</td>\n",
       "      <td>2</td>\n",
       "      <td>yes</td>\n",
       "      <td>yes</td>\n",
       "      <td>unknown</td>\n",
       "      <td>5</td>\n",
       "      <td>may</td>\n",
       "      <td>76</td>\n",
       "      <td>1</td>\n",
       "      <td>-1</td>\n",
       "      <td>0</td>\n",
       "      <td>unknown</td>\n",
       "      <td>no</td>\n",
       "    </tr>\n",
       "    <tr>\n",
       "      <th>3</th>\n",
       "      <td>47</td>\n",
       "      <td>blue-collar</td>\n",
       "      <td>married</td>\n",
       "      <td>unknown</td>\n",
       "      <td>no</td>\n",
       "      <td>1506</td>\n",
       "      <td>yes</td>\n",
       "      <td>no</td>\n",
       "      <td>unknown</td>\n",
       "      <td>5</td>\n",
       "      <td>may</td>\n",
       "      <td>92</td>\n",
       "      <td>1</td>\n",
       "      <td>-1</td>\n",
       "      <td>0</td>\n",
       "      <td>unknown</td>\n",
       "      <td>no</td>\n",
       "    </tr>\n",
       "    <tr>\n",
       "      <th>4</th>\n",
       "      <td>33</td>\n",
       "      <td>unknown</td>\n",
       "      <td>single</td>\n",
       "      <td>unknown</td>\n",
       "      <td>no</td>\n",
       "      <td>1</td>\n",
       "      <td>no</td>\n",
       "      <td>no</td>\n",
       "      <td>unknown</td>\n",
       "      <td>5</td>\n",
       "      <td>may</td>\n",
       "      <td>198</td>\n",
       "      <td>1</td>\n",
       "      <td>-1</td>\n",
       "      <td>0</td>\n",
       "      <td>unknown</td>\n",
       "      <td>no</td>\n",
       "    </tr>\n",
       "  </tbody>\n",
       "</table>\n",
       "</div>"
      ],
      "text/plain": [
       "   age           job  marital  education default  balance housing loan  \\\n",
       "0   58    management  married   tertiary      no     2143     yes   no   \n",
       "1   44    technician   single  secondary      no       29     yes   no   \n",
       "2   33  entrepreneur  married  secondary      no        2     yes  yes   \n",
       "3   47   blue-collar  married    unknown      no     1506     yes   no   \n",
       "4   33       unknown   single    unknown      no        1      no   no   \n",
       "\n",
       "   contact  day month  duration  campaign  pdays  previous poutcome   y  \n",
       "0  unknown    5   may       261         1     -1         0  unknown  no  \n",
       "1  unknown    5   may       151         1     -1         0  unknown  no  \n",
       "2  unknown    5   may        76         1     -1         0  unknown  no  \n",
       "3  unknown    5   may        92         1     -1         0  unknown  no  \n",
       "4  unknown    5   may       198         1     -1         0  unknown  no  "
      ]
     },
     "execution_count": 3,
     "metadata": {},
     "output_type": "execute_result"
    }
   ],
   "source": [
    "# Loading the dataset\n",
    "bank = pd.read_csv(\"bank-full.csv\",delimiter=';')\n",
    "bank.head()"
   ]
  },
  {
   "cell_type": "markdown",
   "id": "9a2a14b9",
   "metadata": {},
   "source": [
    "### Performing EDA on the data"
   ]
  },
  {
   "cell_type": "code",
   "execution_count": 4,
   "id": "75d9aefc",
   "metadata": {
    "ExecuteTime": {
     "end_time": "2023-05-13T04:42:43.447430Z",
     "start_time": "2023-05-13T04:42:43.370182Z"
    }
   },
   "outputs": [
    {
     "name": "stdout",
     "output_type": "stream",
     "text": [
      "<class 'pandas.core.frame.DataFrame'>\n",
      "RangeIndex: 45211 entries, 0 to 45210\n",
      "Data columns (total 17 columns):\n",
      " #   Column     Non-Null Count  Dtype \n",
      "---  ------     --------------  ----- \n",
      " 0   age        45211 non-null  int64 \n",
      " 1   job        45211 non-null  object\n",
      " 2   marital    45211 non-null  object\n",
      " 3   education  45211 non-null  object\n",
      " 4   default    45211 non-null  object\n",
      " 5   balance    45211 non-null  int64 \n",
      " 6   housing    45211 non-null  object\n",
      " 7   loan       45211 non-null  object\n",
      " 8   contact    45211 non-null  object\n",
      " 9   day        45211 non-null  int64 \n",
      " 10  month      45211 non-null  object\n",
      " 11  duration   45211 non-null  int64 \n",
      " 12  campaign   45211 non-null  int64 \n",
      " 13  pdays      45211 non-null  int64 \n",
      " 14  previous   45211 non-null  int64 \n",
      " 15  poutcome   45211 non-null  object\n",
      " 16  y          45211 non-null  object\n",
      "dtypes: int64(7), object(10)\n",
      "memory usage: 5.9+ MB\n"
     ]
    }
   ],
   "source": [
    " # to get the information of the datafile\n",
    "bank.info()"
   ]
  },
  {
   "cell_type": "code",
   "execution_count": 5,
   "id": "98db2998",
   "metadata": {
    "ExecuteTime": {
     "end_time": "2023-05-13T04:42:43.495607Z",
     "start_time": "2023-05-13T04:42:43.447430Z"
    }
   },
   "outputs": [
    {
     "data": {
      "text/html": [
       "<div>\n",
       "<style scoped>\n",
       "    .dataframe tbody tr th:only-of-type {\n",
       "        vertical-align: middle;\n",
       "    }\n",
       "\n",
       "    .dataframe tbody tr th {\n",
       "        vertical-align: top;\n",
       "    }\n",
       "\n",
       "    .dataframe thead th {\n",
       "        text-align: right;\n",
       "    }\n",
       "</style>\n",
       "<table border=\"1\" class=\"dataframe\">\n",
       "  <thead>\n",
       "    <tr style=\"text-align: right;\">\n",
       "      <th></th>\n",
       "      <th>age</th>\n",
       "      <th>balance</th>\n",
       "      <th>day</th>\n",
       "      <th>duration</th>\n",
       "      <th>campaign</th>\n",
       "      <th>pdays</th>\n",
       "      <th>previous</th>\n",
       "    </tr>\n",
       "  </thead>\n",
       "  <tbody>\n",
       "    <tr>\n",
       "      <th>count</th>\n",
       "      <td>45211.000000</td>\n",
       "      <td>45211.000000</td>\n",
       "      <td>45211.000000</td>\n",
       "      <td>45211.000000</td>\n",
       "      <td>45211.000000</td>\n",
       "      <td>45211.000000</td>\n",
       "      <td>45211.000000</td>\n",
       "    </tr>\n",
       "    <tr>\n",
       "      <th>mean</th>\n",
       "      <td>40.936210</td>\n",
       "      <td>1362.272058</td>\n",
       "      <td>15.806419</td>\n",
       "      <td>258.163080</td>\n",
       "      <td>2.763841</td>\n",
       "      <td>40.197828</td>\n",
       "      <td>0.580323</td>\n",
       "    </tr>\n",
       "    <tr>\n",
       "      <th>std</th>\n",
       "      <td>10.618762</td>\n",
       "      <td>3044.765829</td>\n",
       "      <td>8.322476</td>\n",
       "      <td>257.527812</td>\n",
       "      <td>3.098021</td>\n",
       "      <td>100.128746</td>\n",
       "      <td>2.303441</td>\n",
       "    </tr>\n",
       "    <tr>\n",
       "      <th>min</th>\n",
       "      <td>18.000000</td>\n",
       "      <td>-8019.000000</td>\n",
       "      <td>1.000000</td>\n",
       "      <td>0.000000</td>\n",
       "      <td>1.000000</td>\n",
       "      <td>-1.000000</td>\n",
       "      <td>0.000000</td>\n",
       "    </tr>\n",
       "    <tr>\n",
       "      <th>25%</th>\n",
       "      <td>33.000000</td>\n",
       "      <td>72.000000</td>\n",
       "      <td>8.000000</td>\n",
       "      <td>103.000000</td>\n",
       "      <td>1.000000</td>\n",
       "      <td>-1.000000</td>\n",
       "      <td>0.000000</td>\n",
       "    </tr>\n",
       "    <tr>\n",
       "      <th>50%</th>\n",
       "      <td>39.000000</td>\n",
       "      <td>448.000000</td>\n",
       "      <td>16.000000</td>\n",
       "      <td>180.000000</td>\n",
       "      <td>2.000000</td>\n",
       "      <td>-1.000000</td>\n",
       "      <td>0.000000</td>\n",
       "    </tr>\n",
       "    <tr>\n",
       "      <th>75%</th>\n",
       "      <td>48.000000</td>\n",
       "      <td>1428.000000</td>\n",
       "      <td>21.000000</td>\n",
       "      <td>319.000000</td>\n",
       "      <td>3.000000</td>\n",
       "      <td>-1.000000</td>\n",
       "      <td>0.000000</td>\n",
       "    </tr>\n",
       "    <tr>\n",
       "      <th>max</th>\n",
       "      <td>95.000000</td>\n",
       "      <td>102127.000000</td>\n",
       "      <td>31.000000</td>\n",
       "      <td>4918.000000</td>\n",
       "      <td>63.000000</td>\n",
       "      <td>871.000000</td>\n",
       "      <td>275.000000</td>\n",
       "    </tr>\n",
       "  </tbody>\n",
       "</table>\n",
       "</div>"
      ],
      "text/plain": [
       "                age        balance           day      duration      campaign  \\\n",
       "count  45211.000000   45211.000000  45211.000000  45211.000000  45211.000000   \n",
       "mean      40.936210    1362.272058     15.806419    258.163080      2.763841   \n",
       "std       10.618762    3044.765829      8.322476    257.527812      3.098021   \n",
       "min       18.000000   -8019.000000      1.000000      0.000000      1.000000   \n",
       "25%       33.000000      72.000000      8.000000    103.000000      1.000000   \n",
       "50%       39.000000     448.000000     16.000000    180.000000      2.000000   \n",
       "75%       48.000000    1428.000000     21.000000    319.000000      3.000000   \n",
       "max       95.000000  102127.000000     31.000000   4918.000000     63.000000   \n",
       "\n",
       "              pdays      previous  \n",
       "count  45211.000000  45211.000000  \n",
       "mean      40.197828      0.580323  \n",
       "std      100.128746      2.303441  \n",
       "min       -1.000000      0.000000  \n",
       "25%       -1.000000      0.000000  \n",
       "50%       -1.000000      0.000000  \n",
       "75%       -1.000000      0.000000  \n",
       "max      871.000000    275.000000  "
      ]
     },
     "execution_count": 5,
     "metadata": {},
     "output_type": "execute_result"
    }
   ],
   "source": [
    "# summarizing the datafile\n",
    "bank.describe()"
   ]
  },
  {
   "cell_type": "code",
   "execution_count": 6,
   "id": "c06d638b",
   "metadata": {
    "ExecuteTime": {
     "end_time": "2023-05-13T04:42:43.579928Z",
     "start_time": "2023-05-13T04:42:43.495607Z"
    }
   },
   "outputs": [
    {
     "data": {
      "text/plain": [
       "age          0\n",
       "job          0\n",
       "marital      0\n",
       "education    0\n",
       "default      0\n",
       "balance      0\n",
       "housing      0\n",
       "loan         0\n",
       "contact      0\n",
       "day          0\n",
       "month        0\n",
       "duration     0\n",
       "campaign     0\n",
       "pdays        0\n",
       "previous     0\n",
       "poutcome     0\n",
       "y            0\n",
       "dtype: int64"
      ]
     },
     "execution_count": 6,
     "metadata": {},
     "output_type": "execute_result"
    }
   ],
   "source": [
    "# to check the null values of the data\n",
    "bank.isnull().sum()"
   ]
  },
  {
   "cell_type": "code",
   "execution_count": 7,
   "id": "34028f54",
   "metadata": {
    "ExecuteTime": {
     "end_time": "2023-05-13T04:42:43.596709Z",
     "start_time": "2023-05-13T04:42:43.582348Z"
    }
   },
   "outputs": [
    {
     "name": "stdout",
     "output_type": "stream",
     "text": [
      "Dimensions - (45211, 17)\n",
      "Column names - Index(['age', 'job', 'marital', 'education', 'default', 'balance', 'housing',\n",
      "       'loan', 'contact', 'day', 'month', 'duration', 'campaign', 'pdays',\n",
      "       'previous', 'poutcome', 'y'],\n",
      "      dtype='object')\n"
     ]
    }
   ],
   "source": [
    "print(\"Dimensions -\",bank.shape)\n",
    "print(\"Column names -\",bank.columns)"
   ]
  },
  {
   "cell_type": "markdown",
   "id": "9d4237f2",
   "metadata": {},
   "source": [
    "## Visualisations\n",
    "\n",
    "#### Checking the age group of the Clients who have and not subscribed for the term deposit "
   ]
  },
  {
   "cell_type": "code",
   "execution_count": 8,
   "id": "a66f75b8",
   "metadata": {
    "ExecuteTime": {
     "end_time": "2023-05-13T04:42:43.860848Z",
     "start_time": "2023-05-13T04:42:43.596709Z"
    }
   },
   "outputs": [
    {
     "data": {
      "text/plain": [
       "<AxesSubplot:xlabel='y', ylabel='age'>"
      ]
     },
     "execution_count": 8,
     "metadata": {},
     "output_type": "execute_result"
    },
    {
     "data": {
      "image/png": "[encoded data removed]",
      "text/plain": [
       "<Figure size 432x288 with 1 Axes>"
      ]
     },
     "metadata": {
      "needs_background": "light"
     },
     "output_type": "display_data"
    }
   ],
   "source": [
    "# plotting for clients about term deposit subscription by age\n",
    "sns.boxplot(x='y',y='age',data=bank)"
   ]
  },
  {
   "cell_type": "code",
   "execution_count": 9,
   "id": "b44ad775",
   "metadata": {
    "ExecuteTime": {
     "end_time": "2023-05-13T04:42:43.889248Z",
     "start_time": "2023-05-13T04:42:43.862326Z"
    }
   },
   "outputs": [
    {
     "data": {
      "text/plain": [
       "32    2085\n",
       "31    1996\n",
       "33    1972\n",
       "34    1930\n",
       "35    1894\n",
       "      ... \n",
       "93       2\n",
       "90       2\n",
       "95       2\n",
       "88       2\n",
       "94       1\n",
       "Name: age, Length: 77, dtype: int64"
      ]
     },
     "execution_count": 9,
     "metadata": {},
     "output_type": "execute_result"
    }
   ],
   "source": [
    "bank['age'].value_counts()"
   ]
  },
  {
   "cell_type": "markdown",
   "id": "4eff52d1",
   "metadata": {},
   "source": [
    "#### Checking the balance of the Clients who have and not subscribed for term deposit"
   ]
  },
  {
   "cell_type": "code",
   "execution_count": 10,
   "id": "a2ed3861",
   "metadata": {
    "ExecuteTime": {
     "end_time": "2023-05-13T04:42:44.021757Z",
     "start_time": "2023-05-13T04:42:43.894108Z"
    }
   },
   "outputs": [
    {
     "data": {
      "text/plain": [
       "<AxesSubplot:xlabel='y', ylabel='balance'>"
      ]
     },
     "execution_count": 10,
     "metadata": {},
     "output_type": "execute_result"
    },
    {
     "data": {
      "image/png": "[encoded data removed]",
      "text/plain": [
       "<Figure size 360x720 with 1 Axes>"
      ]
     },
     "metadata": {
      "needs_background": "light"
     },
     "output_type": "display_data"
    }
   ],
   "source": [
    "plt.figure(figsize=(5,10))\n",
    "sns.boxplot(x='y',y='balance',data=bank)"
   ]
  },
  {
   "cell_type": "markdown",
   "id": "34b4e814",
   "metadata": {},
   "source": [
    "#### Visualizing the no. of clients who have and not subscribed "
   ]
  },
  {
   "cell_type": "code",
   "execution_count": 11,
   "id": "dea8181b",
   "metadata": {
    "ExecuteTime": {
     "end_time": "2023-05-13T04:42:44.129746Z",
     "start_time": "2023-05-13T04:42:44.021757Z"
    }
   },
   "outputs": [
    {
     "data": {
      "image/png": "[encoded data removed]",
      "text/plain": [
       "<Figure size 432x288 with 1 Axes>"
      ]
     },
     "metadata": {
      "needs_background": "light"
     },
     "output_type": "display_data"
    }
   ],
   "source": [
    "sns.countplot(x='y',data=bank)\n",
    "plt.xlabel(\"Client term deposit Subscription\")\n",
    "plt.show()"
   ]
  },
  {
   "cell_type": "markdown",
   "id": "dab4ce0a",
   "metadata": {},
   "source": [
    "#### Observing whether the previous marketing campaign led the clients to subscribe the term deposit or not"
   ]
  },
  {
   "cell_type": "code",
   "execution_count": 12,
   "id": "bdcbcd84",
   "metadata": {
    "ExecuteTime": {
     "end_time": "2023-05-13T04:42:44.172204Z",
     "start_time": "2023-05-13T04:42:44.129746Z"
    }
   },
   "outputs": [
    {
     "data": {
      "text/html": [
       "<div>\n",
       "<style scoped>\n",
       "    .dataframe tbody tr th:only-of-type {\n",
       "        vertical-align: middle;\n",
       "    }\n",
       "\n",
       "    .dataframe tbody tr th {\n",
       "        vertical-align: top;\n",
       "    }\n",
       "\n",
       "    .dataframe thead th {\n",
       "        text-align: right;\n",
       "    }\n",
       "</style>\n",
       "<table border=\"1\" class=\"dataframe\">\n",
       "  <thead>\n",
       "    <tr style=\"text-align: right;\">\n",
       "      <th>poutcome</th>\n",
       "      <th>failure</th>\n",
       "      <th>other</th>\n",
       "      <th>success</th>\n",
       "      <th>unknown</th>\n",
       "    </tr>\n",
       "    <tr>\n",
       "      <th>y</th>\n",
       "      <th></th>\n",
       "      <th></th>\n",
       "      <th></th>\n",
       "      <th></th>\n",
       "    </tr>\n",
       "  </thead>\n",
       "  <tbody>\n",
       "    <tr>\n",
       "      <th>no</th>\n",
       "      <td>4283</td>\n",
       "      <td>1533</td>\n",
       "      <td>533</td>\n",
       "      <td>33573</td>\n",
       "    </tr>\n",
       "    <tr>\n",
       "      <th>yes</th>\n",
       "      <td>618</td>\n",
       "      <td>307</td>\n",
       "      <td>978</td>\n",
       "      <td>3386</td>\n",
       "    </tr>\n",
       "  </tbody>\n",
       "</table>\n",
       "</div>"
      ],
      "text/plain": [
       "poutcome  failure  other  success  unknown\n",
       "y                                         \n",
       "no           4283   1533      533    33573\n",
       "yes           618    307      978     3386"
      ]
     },
     "execution_count": 12,
     "metadata": {},
     "output_type": "execute_result"
    }
   ],
   "source": [
    "# summarising the information using crosstab\n",
    "pd.crosstab(bank.y, bank.poutcome)"
   ]
  },
  {
   "cell_type": "code",
   "execution_count": 13,
   "id": "d207ba60",
   "metadata": {
    "ExecuteTime": {
     "end_time": "2023-05-13T04:42:44.422571Z",
     "start_time": "2023-05-13T04:42:44.172204Z"
    }
   },
   "outputs": [
    {
     "data": {
      "image/png": "[encoded data removed]",
      "text/plain": [
       "<Figure size 432x288 with 1 Axes>"
      ]
     },
     "metadata": {
      "needs_background": "light"
     },
     "output_type": "display_data"
    }
   ],
   "source": [
    "# visualizing the above information\n",
    "pd.crosstab(bank.y, bank.poutcome).plot(kind='bar')\n",
    "plt.xlabel(\"Client term deposit Subscription\")\n",
    "plt.show()"
   ]
  },
  {
   "cell_type": "code",
   "execution_count": 14,
   "id": "421bf826",
   "metadata": {
    "ExecuteTime": {
     "end_time": "2023-05-13T04:42:44.440294Z",
     "start_time": "2023-05-13T04:42:44.423164Z"
    }
   },
   "outputs": [
    {
     "data": {
      "text/plain": [
       "unknown    36959\n",
       "failure     4901\n",
       "other       1840\n",
       "success     1511\n",
       "Name: poutcome, dtype: int64"
      ]
     },
     "execution_count": 14,
     "metadata": {},
     "output_type": "execute_result"
    }
   ],
   "source": [
    "bank['poutcome'].value_counts()"
   ]
  },
  {
   "cell_type": "markdown",
   "id": "9a9a323b",
   "metadata": {},
   "source": [
    "#### Checking how many of the clients who have personal loan, have subscribed for term deposit"
   ]
  },
  {
   "cell_type": "code",
   "execution_count": 15,
   "id": "c225ee57",
   "metadata": {
    "ExecuteTime": {
     "end_time": "2023-05-13T04:42:44.473153Z",
     "start_time": "2023-05-13T04:42:44.440294Z"
    }
   },
   "outputs": [
    {
     "data": {
      "text/html": [
       "<div>\n",
       "<style scoped>\n",
       "    .dataframe tbody tr th:only-of-type {\n",
       "        vertical-align: middle;\n",
       "    }\n",
       "\n",
       "    .dataframe tbody tr th {\n",
       "        vertical-align: top;\n",
       "    }\n",
       "\n",
       "    .dataframe thead th {\n",
       "        text-align: right;\n",
       "    }\n",
       "</style>\n",
       "<table border=\"1\" class=\"dataframe\">\n",
       "  <thead>\n",
       "    <tr style=\"text-align: right;\">\n",
       "      <th>loan</th>\n",
       "      <th>no</th>\n",
       "      <th>yes</th>\n",
       "    </tr>\n",
       "    <tr>\n",
       "      <th>y</th>\n",
       "      <th></th>\n",
       "      <th></th>\n",
       "    </tr>\n",
       "  </thead>\n",
       "  <tbody>\n",
       "    <tr>\n",
       "      <th>no</th>\n",
       "      <td>33162</td>\n",
       "      <td>6760</td>\n",
       "    </tr>\n",
       "    <tr>\n",
       "      <th>yes</th>\n",
       "      <td>4805</td>\n",
       "      <td>484</td>\n",
       "    </tr>\n",
       "  </tbody>\n",
       "</table>\n",
       "</div>"
      ],
      "text/plain": [
       "loan     no   yes\n",
       "y                \n",
       "no    33162  6760\n",
       "yes    4805   484"
      ]
     },
     "execution_count": 15,
     "metadata": {},
     "output_type": "execute_result"
    }
   ],
   "source": [
    "# personal loan information \n",
    "pd.crosstab(bank.y, bank.loan)"
   ]
  },
  {
   "cell_type": "code",
   "execution_count": 16,
   "id": "bc5286d1",
   "metadata": {
    "ExecuteTime": {
     "end_time": "2023-05-13T04:42:44.622501Z",
     "start_time": "2023-05-13T04:42:44.473664Z"
    }
   },
   "outputs": [
    {
     "data": {
      "image/png": "[encoded data removed]",
      "text/plain": [
       "<Figure size 432x288 with 1 Axes>"
      ]
     },
     "metadata": {
      "needs_background": "light"
     },
     "output_type": "display_data"
    }
   ],
   "source": [
    "pd.crosstab(bank.y, bank.loan).plot(kind = 'bar')\n",
    "plt.xlabel(\"Client term deposit Subscription\")\n",
    "plt.show()"
   ]
  },
  {
   "cell_type": "code",
   "execution_count": 17,
   "id": "0cc96c91",
   "metadata": {
    "ExecuteTime": {
     "end_time": "2023-05-13T04:42:44.801523Z",
     "start_time": "2023-05-13T04:42:44.624723Z"
    }
   },
   "outputs": [
    {
     "data": {
      "image/png": "[encoded data removed]",
      "text/plain": [
       "<Figure size 432x288 with 1 Axes>"
      ]
     },
     "metadata": {
      "needs_background": "light"
     },
     "output_type": "display_data"
    }
   ],
   "source": [
    "# Visualisation of job roles of the clients \n",
    "sns.countplot(x='job',data=bank,palette='hls')\n",
    "plt.xticks(rotation=30)\n",
    "plt.show()"
   ]
  },
  {
   "cell_type": "code",
   "execution_count": 18,
   "id": "e2d1020a",
   "metadata": {
    "ExecuteTime": {
     "end_time": "2023-05-13T04:42:44.817599Z",
     "start_time": "2023-05-13T04:42:44.801523Z"
    }
   },
   "outputs": [
    {
     "data": {
      "text/plain": [
       "blue-collar      9732\n",
       "management       9458\n",
       "technician       7597\n",
       "admin.           5171\n",
       "services         4154\n",
       "retired          2264\n",
       "self-employed    1579\n",
       "entrepreneur     1487\n",
       "unemployed       1303\n",
       "housemaid        1240\n",
       "student           938\n",
       "unknown           288\n",
       "Name: job, dtype: int64"
      ]
     },
     "execution_count": 18,
     "metadata": {},
     "output_type": "execute_result"
    }
   ],
   "source": [
    "# counting the total no. of clients under various job roles\n",
    "bank['job'].value_counts()"
   ]
  },
  {
   "cell_type": "markdown",
   "id": "56b24717",
   "metadata": {},
   "source": [
    "## Encoding of categorical variables "
   ]
  },
  {
   "cell_type": "code",
   "execution_count": 19,
   "id": "dada65ef",
   "metadata": {
    "ExecuteTime": {
     "end_time": "2023-05-13T04:42:44.888598Z",
     "start_time": "2023-05-13T04:42:44.818316Z"
    }
   },
   "outputs": [],
   "source": [
    "# Changing the datatype of the varibles from object to category to perform label encoding\n",
    "bank[['job','marital','education','default','housing','loan','contact','poutcome','month',\n",
    "      'y']] = bank[['job','marital','education','default','housing','loan','contact','poutcome',\n",
    "                    'month','y']].astype('category')\n",
    "bank1 = bank"
   ]
  },
  {
   "cell_type": "code",
   "execution_count": 20,
   "id": "b3e56351",
   "metadata": {
    "ExecuteTime": {
     "end_time": "2023-05-13T04:42:44.912980Z",
     "start_time": "2023-05-13T04:42:44.889794Z"
    }
   },
   "outputs": [
    {
     "name": "stdout",
     "output_type": "stream",
     "text": [
      "<class 'pandas.core.frame.DataFrame'>\n",
      "RangeIndex: 45211 entries, 0 to 45210\n",
      "Data columns (total 17 columns):\n",
      " #   Column     Non-Null Count  Dtype   \n",
      "---  ------     --------------  -----   \n",
      " 0   age        45211 non-null  int64   \n",
      " 1   job        45211 non-null  category\n",
      " 2   marital    45211 non-null  category\n",
      " 3   education  45211 non-null  category\n",
      " 4   default    45211 non-null  category\n",
      " 5   balance    45211 non-null  int64   \n",
      " 6   housing    45211 non-null  category\n",
      " 7   loan       45211 non-null  category\n",
      " 8   contact    45211 non-null  category\n",
      " 9   day        45211 non-null  int64   \n",
      " 10  month      45211 non-null  category\n",
      " 11  duration   45211 non-null  int64   \n",
      " 12  campaign   45211 non-null  int64   \n",
      " 13  pdays      45211 non-null  int64   \n",
      " 14  previous   45211 non-null  int64   \n",
      " 15  poutcome   45211 non-null  category\n",
      " 16  y          45211 non-null  category\n",
      "dtypes: category(10), int64(7)\n",
      "memory usage: 2.8 MB\n"
     ]
    }
   ],
   "source": [
    "bank.info()"
   ]
  },
  {
   "cell_type": "code",
   "execution_count": 21,
   "id": "16916be6",
   "metadata": {
    "ExecuteTime": {
     "end_time": "2023-05-13T04:42:44.939078Z",
     "start_time": "2023-05-13T04:42:44.912980Z"
    }
   },
   "outputs": [],
   "source": [
    "# label Encoding using cat.codes\n",
    "bank1['month'] = bank1['month'].cat.codes\n",
    "bank1['job'] = bank1['job'].cat.codes\n",
    "bank1['marital'] = bank1['marital'].cat.codes\n",
    "bank1['education'] = bank1['education'].cat.codes\n",
    "bank1['default'] = bank1['default'].cat.codes\n",
    "bank1['housing'] = bank1['housing'].cat.codes\n",
    "bank1['loan'] = bank1['loan'].cat.codes\n",
    "bank1['contact'] = bank1['contact'].cat.codes\n",
    "bank1['poutcome'] = bank1['poutcome'].cat.codes\n",
    "bank1['y'] = bank1['y'].cat.codes"
   ]
  },
  {
   "cell_type": "code",
   "execution_count": 22,
   "id": "6e735544",
   "metadata": {
    "ExecuteTime": {
     "end_time": "2023-05-13T04:42:44.955288Z",
     "start_time": "2023-05-13T04:42:44.940282Z"
    }
   },
   "outputs": [
    {
     "name": "stdout",
     "output_type": "stream",
     "text": [
      "<class 'pandas.core.frame.DataFrame'>\n",
      "RangeIndex: 45211 entries, 0 to 45210\n",
      "Data columns (total 17 columns):\n",
      " #   Column     Non-Null Count  Dtype\n",
      "---  ------     --------------  -----\n",
      " 0   age        45211 non-null  int64\n",
      " 1   job        45211 non-null  int8 \n",
      " 2   marital    45211 non-null  int8 \n",
      " 3   education  45211 non-null  int8 \n",
      " 4   default    45211 non-null  int8 \n",
      " 5   balance    45211 non-null  int64\n",
      " 6   housing    45211 non-null  int8 \n",
      " 7   loan       45211 non-null  int8 \n",
      " 8   contact    45211 non-null  int8 \n",
      " 9   day        45211 non-null  int64\n",
      " 10  month      45211 non-null  int8 \n",
      " 11  duration   45211 non-null  int64\n",
      " 12  campaign   45211 non-null  int64\n",
      " 13  pdays      45211 non-null  int64\n",
      " 14  previous   45211 non-null  int64\n",
      " 15  poutcome   45211 non-null  int8 \n",
      " 16  y          45211 non-null  int8 \n",
      "dtypes: int64(7), int8(10)\n",
      "memory usage: 2.8 MB\n"
     ]
    }
   ],
   "source": [
    "bank1.info()"
   ]
  },
  {
   "cell_type": "code",
   "execution_count": 23,
   "id": "d48417a8",
   "metadata": {
    "ExecuteTime": {
     "end_time": "2023-05-13T04:42:44.981538Z",
     "start_time": "2023-05-13T04:42:44.955288Z"
    }
   },
   "outputs": [
    {
     "data": {
      "text/plain": [
       "age          0\n",
       "job          0\n",
       "marital      0\n",
       "education    0\n",
       "default      0\n",
       "balance      0\n",
       "housing      0\n",
       "loan         0\n",
       "contact      0\n",
       "day          0\n",
       "month        0\n",
       "duration     0\n",
       "campaign     0\n",
       "pdays        0\n",
       "previous     0\n",
       "poutcome     0\n",
       "y            0\n",
       "dtype: int64"
      ]
     },
     "execution_count": 23,
     "metadata": {},
     "output_type": "execute_result"
    }
   ],
   "source": [
    "# checking for null values\n",
    "bank1.isnull().sum()"
   ]
  },
  {
   "cell_type": "raw",
   "id": "445cf911",
   "metadata": {},
   "source": [
    "Since we donot have any null value, we need not perform \"Imputation\".\n",
    "(replacing null values with alternate values... for numerical values - mean,median of the col.. for categorical values - mode of the col)"
   ]
  },
  {
   "cell_type": "markdown",
   "id": "656fa676",
   "metadata": {},
   "source": [
    "## Model Building "
   ]
  },
  {
   "cell_type": "code",
   "execution_count": 24,
   "id": "71c92779",
   "metadata": {
    "ExecuteTime": {
     "end_time": "2023-05-13T04:42:44.997530Z",
     "start_time": "2023-05-13T04:42:44.981538Z"
    }
   },
   "outputs": [
    {
     "data": {
      "text/plain": [
       "(45211, 17)"
      ]
     },
     "execution_count": 24,
     "metadata": {},
     "output_type": "execute_result"
    }
   ],
   "source": [
    "from sklearn.linear_model import LogisticRegression\n",
    "bank1.shape"
   ]
  },
  {
   "cell_type": "code",
   "execution_count": 25,
   "id": "9ac5e700",
   "metadata": {
    "ExecuteTime": {
     "end_time": "2023-05-13T04:42:45.388506Z",
     "start_time": "2023-05-13T04:42:44.997530Z"
    }
   },
   "outputs": [
    {
     "data": {
      "text/plain": [
       "LogisticRegression()"
      ]
     },
     "execution_count": 25,
     "metadata": {},
     "output_type": "execute_result"
    }
   ],
   "source": [
    "# Dividing our data into input and output variables\n",
    "\n",
    "# Independent variables\n",
    "X = bank1.drop('y',axis=1)\n",
    "# Dependent variable\n",
    "Y = bank1['y']\n",
    "\n",
    "# Logistic Regression Model\n",
    "classifier = LogisticRegression()\n",
    "classifier.fit(X,Y)"
   ]
  },
  {
   "cell_type": "code",
   "execution_count": 26,
   "id": "88cbbb5e",
   "metadata": {
    "ExecuteTime": {
     "end_time": "2023-05-13T04:42:45.406524Z",
     "start_time": "2023-05-13T04:42:45.388506Z"
    }
   },
   "outputs": [
    {
     "data": {
      "text/plain": [
       "array([[-3.17050285e-02,  1.46300887e-02, -9.21490185e-02,\n",
       "        -1.31741228e-02, -4.79559847e-03,  4.00722249e-05,\n",
       "        -1.81671269e-01, -5.35283161e-02, -1.86813588e-01,\n",
       "        -8.42778361e-03, -5.98297311e-02,  3.27200425e-03,\n",
       "        -2.67118627e-01, -1.23626242e-03,  1.20031954e-01,\n",
       "        -1.80631482e-01]])"
      ]
     },
     "execution_count": 26,
     "metadata": {},
     "output_type": "execute_result"
    }
   ],
   "source": [
    "# to print all the coefficients of the independent variables\n",
    "classifier.coef_"
   ]
  },
  {
   "cell_type": "markdown",
   "id": "701d7a22",
   "metadata": {},
   "source": [
    "# Predictions"
   ]
  },
  {
   "cell_type": "code",
   "execution_count": 27,
   "id": "1466e323",
   "metadata": {
    "ExecuteTime": {
     "end_time": "2023-05-13T04:42:45.438643Z",
     "start_time": "2023-05-13T04:42:45.407144Z"
    }
   },
   "outputs": [
    {
     "data": {
      "text/plain": [
       "array([[0.94850478, 0.05149522],\n",
       "       [0.94882557, 0.05117443],\n",
       "       [0.94692439, 0.05307561],\n",
       "       ...,\n",
       "       [0.67148092, 0.32851908],\n",
       "       [0.9403167 , 0.0596833 ],\n",
       "       [0.58130198, 0.41869802]])"
      ]
     },
     "execution_count": 27,
     "metadata": {},
     "output_type": "execute_result"
    }
   ],
   "source": [
    "# Probability values prediction\n",
    "classifier.predict_proba (X)"
   ]
  },
  {
   "cell_type": "code",
   "execution_count": 28,
   "id": "db5fb180",
   "metadata": {
    "ExecuteTime": {
     "end_time": "2023-05-13T04:42:45.472423Z",
     "start_time": "2023-05-13T04:42:45.441190Z"
    }
   },
   "outputs": [
    {
     "data": {
      "text/html": [
       "<div>\n",
       "<style scoped>\n",
       "    .dataframe tbody tr th:only-of-type {\n",
       "        vertical-align: middle;\n",
       "    }\n",
       "\n",
       "    .dataframe tbody tr th {\n",
       "        vertical-align: top;\n",
       "    }\n",
       "\n",
       "    .dataframe thead th {\n",
       "        text-align: right;\n",
       "    }\n",
       "</style>\n",
       "<table border=\"1\" class=\"dataframe\">\n",
       "  <thead>\n",
       "    <tr style=\"text-align: right;\">\n",
       "      <th></th>\n",
       "      <th>y</th>\n",
       "      <th>y_pred</th>\n",
       "    </tr>\n",
       "  </thead>\n",
       "  <tbody>\n",
       "    <tr>\n",
       "      <th>0</th>\n",
       "      <td>0</td>\n",
       "      <td>0</td>\n",
       "    </tr>\n",
       "    <tr>\n",
       "      <th>1</th>\n",
       "      <td>0</td>\n",
       "      <td>0</td>\n",
       "    </tr>\n",
       "    <tr>\n",
       "      <th>2</th>\n",
       "      <td>0</td>\n",
       "      <td>0</td>\n",
       "    </tr>\n",
       "    <tr>\n",
       "      <th>3</th>\n",
       "      <td>0</td>\n",
       "      <td>0</td>\n",
       "    </tr>\n",
       "    <tr>\n",
       "      <th>4</th>\n",
       "      <td>0</td>\n",
       "      <td>0</td>\n",
       "    </tr>\n",
       "    <tr>\n",
       "      <th>...</th>\n",
       "      <td>...</td>\n",
       "      <td>...</td>\n",
       "    </tr>\n",
       "    <tr>\n",
       "      <th>45206</th>\n",
       "      <td>1</td>\n",
       "      <td>0</td>\n",
       "    </tr>\n",
       "    <tr>\n",
       "      <th>45207</th>\n",
       "      <td>1</td>\n",
       "      <td>0</td>\n",
       "    </tr>\n",
       "    <tr>\n",
       "      <th>45208</th>\n",
       "      <td>1</td>\n",
       "      <td>0</td>\n",
       "    </tr>\n",
       "    <tr>\n",
       "      <th>45209</th>\n",
       "      <td>0</td>\n",
       "      <td>0</td>\n",
       "    </tr>\n",
       "    <tr>\n",
       "      <th>45210</th>\n",
       "      <td>0</td>\n",
       "      <td>0</td>\n",
       "    </tr>\n",
       "  </tbody>\n",
       "</table>\n",
       "<p>45211 rows × 2 columns</p>\n",
       "</div>"
      ],
      "text/plain": [
       "       y  y_pred\n",
       "0      0       0\n",
       "1      0       0\n",
       "2      0       0\n",
       "3      0       0\n",
       "4      0       0\n",
       "...   ..     ...\n",
       "45206  1       0\n",
       "45207  1       0\n",
       "45208  1       0\n",
       "45209  0       0\n",
       "45210  0       0\n",
       "\n",
       "[45211 rows x 2 columns]"
      ]
     },
     "execution_count": 28,
     "metadata": {},
     "output_type": "execute_result"
    }
   ],
   "source": [
    "# Prediction of the dependent variable using independent variables and printing \n",
    "y_pred = classifier.predict(X)\n",
    "bank1['y_pred'] = y_pred\n",
    "pred = bank1[['y','y_pred']]\n",
    "pred"
   ]
  },
  {
   "cell_type": "code",
   "execution_count": 29,
   "id": "557db710",
   "metadata": {
    "ExecuteTime": {
     "end_time": "2023-05-13T04:42:45.505846Z",
     "start_time": "2023-05-13T04:42:45.473000Z"
    }
   },
   "outputs": [
    {
     "data": {
      "text/html": [
       "<div>\n",
       "<style scoped>\n",
       "    .dataframe tbody tr th:only-of-type {\n",
       "        vertical-align: middle;\n",
       "    }\n",
       "\n",
       "    .dataframe tbody tr th {\n",
       "        vertical-align: top;\n",
       "    }\n",
       "\n",
       "    .dataframe thead th {\n",
       "        text-align: right;\n",
       "    }\n",
       "</style>\n",
       "<table border=\"1\" class=\"dataframe\">\n",
       "  <thead>\n",
       "    <tr style=\"text-align: right;\">\n",
       "      <th></th>\n",
       "      <th>y</th>\n",
       "      <th>y_pred</th>\n",
       "      <th>0</th>\n",
       "      <th>1</th>\n",
       "    </tr>\n",
       "  </thead>\n",
       "  <tbody>\n",
       "    <tr>\n",
       "      <th>0</th>\n",
       "      <td>0</td>\n",
       "      <td>0</td>\n",
       "      <td>0.948505</td>\n",
       "      <td>0.051495</td>\n",
       "    </tr>\n",
       "    <tr>\n",
       "      <th>1</th>\n",
       "      <td>0</td>\n",
       "      <td>0</td>\n",
       "      <td>0.948826</td>\n",
       "      <td>0.051174</td>\n",
       "    </tr>\n",
       "    <tr>\n",
       "      <th>2</th>\n",
       "      <td>0</td>\n",
       "      <td>0</td>\n",
       "      <td>0.946924</td>\n",
       "      <td>0.053076</td>\n",
       "    </tr>\n",
       "    <tr>\n",
       "      <th>3</th>\n",
       "      <td>0</td>\n",
       "      <td>0</td>\n",
       "      <td>0.960842</td>\n",
       "      <td>0.039158</td>\n",
       "    </tr>\n",
       "    <tr>\n",
       "      <th>4</th>\n",
       "      <td>0</td>\n",
       "      <td>0</td>\n",
       "      <td>0.903260</td>\n",
       "      <td>0.096740</td>\n",
       "    </tr>\n",
       "    <tr>\n",
       "      <th>...</th>\n",
       "      <td>...</td>\n",
       "      <td>...</td>\n",
       "      <td>...</td>\n",
       "      <td>...</td>\n",
       "    </tr>\n",
       "    <tr>\n",
       "      <th>45206</th>\n",
       "      <td>1</td>\n",
       "      <td>0</td>\n",
       "      <td>0.614975</td>\n",
       "      <td>0.385025</td>\n",
       "    </tr>\n",
       "    <tr>\n",
       "      <th>45207</th>\n",
       "      <td>1</td>\n",
       "      <td>0</td>\n",
       "      <td>0.920105</td>\n",
       "      <td>0.079895</td>\n",
       "    </tr>\n",
       "    <tr>\n",
       "      <th>45208</th>\n",
       "      <td>1</td>\n",
       "      <td>0</td>\n",
       "      <td>0.671481</td>\n",
       "      <td>0.328519</td>\n",
       "    </tr>\n",
       "    <tr>\n",
       "      <th>45209</th>\n",
       "      <td>0</td>\n",
       "      <td>0</td>\n",
       "      <td>0.940317</td>\n",
       "      <td>0.059683</td>\n",
       "    </tr>\n",
       "    <tr>\n",
       "      <th>45210</th>\n",
       "      <td>0</td>\n",
       "      <td>0</td>\n",
       "      <td>0.581302</td>\n",
       "      <td>0.418698</td>\n",
       "    </tr>\n",
       "  </tbody>\n",
       "</table>\n",
       "<p>45211 rows × 4 columns</p>\n",
       "</div>"
      ],
      "text/plain": [
       "       y  y_pred         0         1\n",
       "0      0       0  0.948505  0.051495\n",
       "1      0       0  0.948826  0.051174\n",
       "2      0       0  0.946924  0.053076\n",
       "3      0       0  0.960842  0.039158\n",
       "4      0       0  0.903260  0.096740\n",
       "...   ..     ...       ...       ...\n",
       "45206  1       0  0.614975  0.385025\n",
       "45207  1       0  0.920105  0.079895\n",
       "45208  1       0  0.671481  0.328519\n",
       "45209  0       0  0.940317  0.059683\n",
       "45210  0       0  0.581302  0.418698\n",
       "\n",
       "[45211 rows x 4 columns]"
      ]
     },
     "execution_count": 29,
     "metadata": {},
     "output_type": "execute_result"
    }
   ],
   "source": [
    "# to print the probability values of the prediction \n",
    "y_prob = pd.DataFrame(classifier.predict_proba(X.iloc[:,:]))\n",
    "new_data = pd.concat([pred,y_prob],axis=1)\n",
    "new_data"
   ]
  },
  {
   "cell_type": "markdown",
   "id": "492cc301",
   "metadata": {},
   "source": [
    "## Testing accuracy of the model\n",
    "\n",
    "### - Confusion Matrix"
   ]
  },
  {
   "cell_type": "code",
   "execution_count": 30,
   "id": "51165a51",
   "metadata": {
    "ExecuteTime": {
     "end_time": "2023-05-13T04:42:45.524366Z",
     "start_time": "2023-05-13T04:42:45.506348Z"
    }
   },
   "outputs": [
    {
     "data": {
      "text/plain": [
       "array([[39279,   643],\n",
       "       [ 4436,   853]], dtype=int64)"
      ]
     },
     "execution_count": 30,
     "metadata": {},
     "output_type": "execute_result"
    }
   ],
   "source": [
    "# Confusion matrix for accuracy testing\n",
    "from sklearn.metrics import confusion_matrix\n",
    "confusion_matrix = confusion_matrix(Y,y_pred)\n",
    "confusion_matrix"
   ]
  },
  {
   "cell_type": "code",
   "execution_count": 31,
   "id": "23de5abc",
   "metadata": {
    "ExecuteTime": {
     "end_time": "2023-05-13T04:42:45.563755Z",
     "start_time": "2023-05-13T04:42:45.524366Z"
    }
   },
   "outputs": [
    {
     "data": {
      "text/html": [
       "<div>\n",
       "<style scoped>\n",
       "    .dataframe tbody tr th:only-of-type {\n",
       "        vertical-align: middle;\n",
       "    }\n",
       "\n",
       "    .dataframe tbody tr th {\n",
       "        vertical-align: top;\n",
       "    }\n",
       "\n",
       "    .dataframe thead th {\n",
       "        text-align: right;\n",
       "    }\n",
       "</style>\n",
       "<table border=\"1\" class=\"dataframe\">\n",
       "  <thead>\n",
       "    <tr style=\"text-align: right;\">\n",
       "      <th>y</th>\n",
       "      <th>0</th>\n",
       "      <th>1</th>\n",
       "    </tr>\n",
       "    <tr>\n",
       "      <th>row_0</th>\n",
       "      <th></th>\n",
       "      <th></th>\n",
       "    </tr>\n",
       "  </thead>\n",
       "  <tbody>\n",
       "    <tr>\n",
       "      <th>0</th>\n",
       "      <td>39279</td>\n",
       "      <td>4436</td>\n",
       "    </tr>\n",
       "    <tr>\n",
       "      <th>1</th>\n",
       "      <td>643</td>\n",
       "      <td>853</td>\n",
       "    </tr>\n",
       "  </tbody>\n",
       "</table>\n",
       "</div>"
      ],
      "text/plain": [
       "y          0     1\n",
       "row_0             \n",
       "0      39279  4436\n",
       "1        643   853"
      ]
     },
     "execution_count": 31,
     "metadata": {},
     "output_type": "execute_result"
    }
   ],
   "source": [
    "# confusion matirx can also be printed using crosstab function\n",
    "pd.crosstab(y_pred,Y)"
   ]
  },
  {
   "cell_type": "code",
   "execution_count": 32,
   "id": "6793da14",
   "metadata": {
    "ExecuteTime": {
     "end_time": "2023-05-13T04:42:45.581272Z",
     "start_time": "2023-05-13T04:42:45.563755Z"
    }
   },
   "outputs": [
    {
     "data": {
      "text/plain": [
       "0.887660082723231"
      ]
     },
     "execution_count": 32,
     "metadata": {},
     "output_type": "execute_result"
    }
   ],
   "source": [
    "# to print the accuracy of the model\n",
    "accuracy = sum(Y==y_pred)/bank1.shape[0]\n",
    "accuracy"
   ]
  },
  {
   "cell_type": "markdown",
   "id": "d12eadc7",
   "metadata": {},
   "source": [
    "#### Hence, the accuracy of the logistic regression model is 89%"
   ]
  },
  {
   "cell_type": "code",
   "execution_count": 33,
   "id": "45c01e71",
   "metadata": {
    "ExecuteTime": {
     "end_time": "2023-05-13T04:42:45.653752Z",
     "start_time": "2023-05-13T04:42:45.581812Z"
    }
   },
   "outputs": [
    {
     "name": "stdout",
     "output_type": "stream",
     "text": [
      "              precision    recall  f1-score   support\n",
      "\n",
      "           0       0.90      0.98      0.94     39922\n",
      "           1       0.57      0.16      0.25      5289\n",
      "\n",
      "    accuracy                           0.89     45211\n",
      "   macro avg       0.73      0.57      0.60     45211\n",
      "weighted avg       0.86      0.89      0.86     45211\n",
      "\n"
     ]
    }
   ],
   "source": [
    "# Classification Report\n",
    "from sklearn.metrics import classification_report\n",
    "print(classification_report(Y,y_pred))"
   ]
  },
  {
   "cell_type": "markdown",
   "id": "df0abfdf",
   "metadata": {},
   "source": [
    "### - ROC curve"
   ]
  },
  {
   "cell_type": "code",
   "execution_count": 34,
   "id": "9bcabb8f",
   "metadata": {
    "ExecuteTime": {
     "end_time": "2023-05-13T04:42:45.689147Z",
     "start_time": "2023-05-13T04:42:45.653752Z"
    }
   },
   "outputs": [
    {
     "data": {
      "text/plain": [
       "0.5725858584572683"
      ]
     },
     "execution_count": 34,
     "metadata": {},
     "output_type": "execute_result"
    }
   ],
   "source": [
    "from sklearn.metrics import roc_auc_score # for accuracy\n",
    "from sklearn.metrics import roc_curve # for plotting curve\n",
    "\n",
    "# accuracy of the model using roc\n",
    "model_roc_score = roc_auc_score(Y,classifier.predict(X))\n",
    "model_roc_score"
   ]
  },
  {
   "cell_type": "code",
   "execution_count": 35,
   "id": "75f9c303",
   "metadata": {
    "ExecuteTime": {
     "end_time": "2023-05-13T04:42:45.970928Z",
     "start_time": "2023-05-13T04:42:45.689644Z"
    }
   },
   "outputs": [
    {
     "data": {
      "image/png": "[encoded data removed]",
      "text/plain": [
       "<Figure size 360x216 with 1 Axes>"
      ]
     },
     "metadata": {
      "needs_background": "light"
     },
     "output_type": "display_data"
    }
   ],
   "source": [
    "# plotting the roc curve\n",
    "plt.figure(figsize=(5,3))\n",
    "fpr,tpr,thresholds = roc_curve(Y,classifier.predict_proba(X)[:,1])\n",
    "plt.plot(fpr,tpr, label='Logistic Regression (area=%0.2f)'%model_roc_score,color='red')\n",
    "plt.plot([0,1],[0,1],'k--')\n",
    "plt.xlim([0.0,1.0])\n",
    "plt.ylim([0.0,1.05])\n",
    "plt.xlabel('False Positive Rate')\n",
    "plt.ylabel('True Positive Rate')\n",
    "plt.title('ROC - Receiver Operating Characteristic')\n",
    "plt.legend(loc='lower right')\n",
    "plt.show()"
   ]
  },
  {
   "cell_type": "markdown",
   "id": "478e1fab",
   "metadata": {},
   "source": [
    "## For the identification of insignificant variables"
   ]
  },
  {
   "cell_type": "code",
   "execution_count": 36,
   "id": "d60f676e",
   "metadata": {
    "ExecuteTime": {
     "end_time": "2023-05-13T04:42:48.811832Z",
     "start_time": "2023-05-13T04:42:45.973159Z"
    }
   },
   "outputs": [
    {
     "name": "stdout",
     "output_type": "stream",
     "text": [
      "Optimization terminated successfully.\n",
      "         Current function value: 0.276364\n",
      "         Iterations 8\n"
     ]
    },
    {
     "data": {
      "text/html": [
       "<table class=\"simpletable\">\n",
       "<caption>Logit Regression Results</caption>\n",
       "<tr>\n",
       "  <th>Dep. Variable:</th>           <td>y</td>        <th>  No. Observations:  </th>  <td> 45211</td> \n",
       "</tr>\n",
       "<tr>\n",
       "  <th>Model:</th>                 <td>Logit</td>      <th>  Df Residuals:      </th>  <td> 45195</td> \n",
       "</tr>\n",
       "<tr>\n",
       "  <th>Method:</th>                 <td>MLE</td>       <th>  Df Model:          </th>  <td>    15</td> \n",
       "</tr>\n",
       "<tr>\n",
       "  <th>Date:</th>            <td>Sat, 13 May 2023</td> <th>  Pseudo R-squ.:     </th>  <td>0.2342</td> \n",
       "</tr>\n",
       "<tr>\n",
       "  <th>Time:</th>                <td>10:12:48</td>     <th>  Log-Likelihood:    </th> <td> -12495.</td>\n",
       "</tr>\n",
       "<tr>\n",
       "  <th>converged:</th>             <td>True</td>       <th>  LL-Null:           </th> <td> -16315.</td>\n",
       "</tr>\n",
       "<tr>\n",
       "  <th>Covariance Type:</th>     <td>nonrobust</td>    <th>  LLR p-value:       </th>  <td> 0.000</td> \n",
       "</tr>\n",
       "</table>\n",
       "<table class=\"simpletable\">\n",
       "<tr>\n",
       "      <td></td>         <th>coef</th>     <th>std err</th>      <th>z</th>      <th>P>|z|</th>  <th>[0.025</th>    <th>0.975]</th>  \n",
       "</tr>\n",
       "<tr>\n",
       "  <th>age</th>       <td>   -0.0235</td> <td>    0.001</td> <td>  -18.322</td> <td> 0.000</td> <td>   -0.026</td> <td>   -0.021</td>\n",
       "</tr>\n",
       "<tr>\n",
       "  <th>job</th>       <td>   -0.0157</td> <td>    0.005</td> <td>   -3.051</td> <td> 0.002</td> <td>   -0.026</td> <td>   -0.006</td>\n",
       "</tr>\n",
       "<tr>\n",
       "  <th>marital</th>   <td>   -0.1877</td> <td>    0.026</td> <td>   -7.181</td> <td> 0.000</td> <td>   -0.239</td> <td>   -0.136</td>\n",
       "</tr>\n",
       "<tr>\n",
       "  <th>education</th> <td>    0.0308</td> <td>    0.022</td> <td>    1.389</td> <td> 0.165</td> <td>   -0.013</td> <td>    0.074</td>\n",
       "</tr>\n",
       "<tr>\n",
       "  <th>default</th>   <td>   -0.4022</td> <td>    0.159</td> <td>   -2.534</td> <td> 0.011</td> <td>   -0.713</td> <td>   -0.091</td>\n",
       "</tr>\n",
       "<tr>\n",
       "  <th>balance</th>   <td> 1.978e-05</td> <td> 4.51e-06</td> <td>    4.381</td> <td> 0.000</td> <td> 1.09e-05</td> <td> 2.86e-05</td>\n",
       "</tr>\n",
       "<tr>\n",
       "  <th>housing</th>   <td>   -1.2719</td> <td>    0.037</td> <td>  -34.810</td> <td> 0.000</td> <td>   -1.343</td> <td>   -1.200</td>\n",
       "</tr>\n",
       "<tr>\n",
       "  <th>loan</th>      <td>   -0.8290</td> <td>    0.056</td> <td>  -14.696</td> <td> 0.000</td> <td>   -0.940</td> <td>   -0.718</td>\n",
       "</tr>\n",
       "<tr>\n",
       "  <th>contact</th>   <td>   -0.5961</td> <td>    0.027</td> <td>  -22.449</td> <td> 0.000</td> <td>   -0.648</td> <td>   -0.544</td>\n",
       "</tr>\n",
       "<tr>\n",
       "  <th>day</th>       <td>   -0.0169</td> <td>    0.002</td> <td>   -8.524</td> <td> 0.000</td> <td>   -0.021</td> <td>   -0.013</td>\n",
       "</tr>\n",
       "<tr>\n",
       "  <th>month</th>     <td>    0.0054</td> <td>    0.005</td> <td>    1.013</td> <td> 0.311</td> <td>   -0.005</td> <td>    0.016</td>\n",
       "</tr>\n",
       "<tr>\n",
       "  <th>duration</th>  <td>    0.0038</td> <td> 6.01e-05</td> <td>   63.105</td> <td> 0.000</td> <td>    0.004</td> <td>    0.004</td>\n",
       "</tr>\n",
       "<tr>\n",
       "  <th>campaign</th>  <td>   -0.1682</td> <td>    0.011</td> <td>  -15.928</td> <td> 0.000</td> <td>   -0.189</td> <td>   -0.147</td>\n",
       "</tr>\n",
       "<tr>\n",
       "  <th>pdays</th>     <td>    0.0002</td> <td>    0.000</td> <td>    0.878</td> <td> 0.380</td> <td>   -0.000</td> <td>    0.001</td>\n",
       "</tr>\n",
       "<tr>\n",
       "  <th>previous</th>  <td>    0.0548</td> <td>    0.008</td> <td>    6.879</td> <td> 0.000</td> <td>    0.039</td> <td>    0.070</td>\n",
       "</tr>\n",
       "<tr>\n",
       "  <th>poutcome</th>  <td>   -0.2257</td> <td>    0.022</td> <td>  -10.244</td> <td> 0.000</td> <td>   -0.269</td> <td>   -0.183</td>\n",
       "</tr>\n",
       "</table>"
      ],
      "text/plain": [
       "<class 'statsmodels.iolib.summary.Summary'>\n",
       "\"\"\"\n",
       "                           Logit Regression Results                           \n",
       "==============================================================================\n",
       "Dep. Variable:                      y   No. Observations:                45211\n",
       "Model:                          Logit   Df Residuals:                    45195\n",
       "Method:                           MLE   Df Model:                           15\n",
       "Date:                Sat, 13 May 2023   Pseudo R-squ.:                  0.2342\n",
       "Time:                        10:12:48   Log-Likelihood:                -12495.\n",
       "converged:                       True   LL-Null:                       -16315.\n",
       "Covariance Type:            nonrobust   LLR p-value:                     0.000\n",
       "==============================================================================\n",
       "                 coef    std err          z      P>|z|      [0.025      0.975]\n",
       "------------------------------------------------------------------------------\n",
       "age           -0.0235      0.001    -18.322      0.000      -0.026      -0.021\n",
       "job           -0.0157      0.005     -3.051      0.002      -0.026      -0.006\n",
       "marital       -0.1877      0.026     -7.181      0.000      -0.239      -0.136\n",
       "education      0.0308      0.022      1.389      0.165      -0.013       0.074\n",
       "default       -0.4022      0.159     -2.534      0.011      -0.713      -0.091\n",
       "balance     1.978e-05   4.51e-06      4.381      0.000    1.09e-05    2.86e-05\n",
       "housing       -1.2719      0.037    -34.810      0.000      -1.343      -1.200\n",
       "loan          -0.8290      0.056    -14.696      0.000      -0.940      -0.718\n",
       "contact       -0.5961      0.027    -22.449      0.000      -0.648      -0.544\n",
       "day           -0.0169      0.002     -8.524      0.000      -0.021      -0.013\n",
       "month          0.0054      0.005      1.013      0.311      -0.005       0.016\n",
       "duration       0.0038   6.01e-05     63.105      0.000       0.004       0.004\n",
       "campaign      -0.1682      0.011    -15.928      0.000      -0.189      -0.147\n",
       "pdays          0.0002      0.000      0.878      0.380      -0.000       0.001\n",
       "previous       0.0548      0.008      6.879      0.000       0.039       0.070\n",
       "poutcome      -0.2257      0.022    -10.244      0.000      -0.269      -0.183\n",
       "==============================================================================\n",
       "\"\"\""
      ]
     },
     "execution_count": 36,
     "metadata": {},
     "output_type": "execute_result"
    }
   ],
   "source": [
    "# Using statsmodels library for the identification of insignificant variables \n",
    "import statsmodels.api as sm\n",
    "# Using Logit() function for creating Logistic Regression Model\n",
    "logit = sm.Logit(Y,X)\n",
    "logit.fit().summary()"
   ]
  },
  {
   "cell_type": "raw",
   "id": "eb7a0116",
   "metadata": {},
   "source": [
    "Hence, the independent variables 'education', 'month' and 'pdays' are insignificant."
   ]
  },
  {
   "cell_type": "markdown",
   "id": "292241f2",
   "metadata": {},
   "source": [
    "## To identify the best threshold "
   ]
  },
  {
   "cell_type": "code",
   "execution_count": 37,
   "id": "664d6acf",
   "metadata": {
    "ExecuteTime": {
     "end_time": "2023-05-13T04:42:48.822009Z",
     "start_time": "2023-05-13T04:42:48.815257Z"
    }
   },
   "outputs": [
    {
     "data": {
      "text/plain": [
       "array([0.00000000e+00, 2.50488452e-05, 1.00195381e-04, ...,\n",
       "       9.97795702e-01, 9.97795702e-01, 1.00000000e+00])"
      ]
     },
     "execution_count": 37,
     "metadata": {},
     "output_type": "execute_result"
    }
   ],
   "source": [
    "# false positive rate\n",
    "fpr"
   ]
  },
  {
   "cell_type": "code",
   "execution_count": 38,
   "id": "e59badfd",
   "metadata": {
    "ExecuteTime": {
     "end_time": "2023-05-13T04:42:48.851724Z",
     "start_time": "2023-05-13T04:42:48.824743Z"
    }
   },
   "outputs": [
    {
     "data": {
      "text/plain": [
       "array([0.        , 0.        , 0.        , ..., 0.99981093, 1.        ,\n",
       "       1.        ])"
      ]
     },
     "execution_count": 38,
     "metadata": {},
     "output_type": "execute_result"
    }
   ],
   "source": [
    "# true positive rate\n",
    "tpr"
   ]
  },
  {
   "cell_type": "code",
   "execution_count": 39,
   "id": "94973ce9",
   "metadata": {
    "ExecuteTime": {
     "end_time": "2023-05-13T04:46:00.148656Z",
     "start_time": "2023-05-13T04:42:48.855900Z"
    }
   },
   "outputs": [
    {
     "data": {
      "text/html": [
       "<div>\n",
       "<style scoped>\n",
       "    .dataframe tbody tr th:only-of-type {\n",
       "        vertical-align: middle;\n",
       "    }\n",
       "\n",
       "    .dataframe tbody tr th {\n",
       "        vertical-align: top;\n",
       "    }\n",
       "\n",
       "    .dataframe thead th {\n",
       "        text-align: right;\n",
       "    }\n",
       "</style>\n",
       "<table border=\"1\" class=\"dataframe\">\n",
       "  <thead>\n",
       "    <tr style=\"text-align: right;\">\n",
       "      <th></th>\n",
       "      <th>Thresholds</th>\n",
       "      <th>Accuracy</th>\n",
       "    </tr>\n",
       "  </thead>\n",
       "  <tbody>\n",
       "    <tr>\n",
       "      <th>814</th>\n",
       "      <td>4.851707e-01</td>\n",
       "      <td>0.887815</td>\n",
       "    </tr>\n",
       "    <tr>\n",
       "      <th>815</th>\n",
       "      <td>4.850184e-01</td>\n",
       "      <td>0.887793</td>\n",
       "    </tr>\n",
       "    <tr>\n",
       "      <th>812</th>\n",
       "      <td>4.855776e-01</td>\n",
       "      <td>0.887793</td>\n",
       "    </tr>\n",
       "    <tr>\n",
       "      <th>813</th>\n",
       "      <td>4.853018e-01</td>\n",
       "      <td>0.887793</td>\n",
       "    </tr>\n",
       "    <tr>\n",
       "      <th>806</th>\n",
       "      <td>4.864249e-01</td>\n",
       "      <td>0.887771</td>\n",
       "    </tr>\n",
       "    <tr>\n",
       "      <th>...</th>\n",
       "      <td>...</td>\n",
       "      <td>...</td>\n",
       "    </tr>\n",
       "    <tr>\n",
       "      <th>7832</th>\n",
       "      <td>4.616320e-04</td>\n",
       "      <td>0.122824</td>\n",
       "    </tr>\n",
       "    <tr>\n",
       "      <th>7833</th>\n",
       "      <td>4.589572e-04</td>\n",
       "      <td>0.122802</td>\n",
       "    </tr>\n",
       "    <tr>\n",
       "      <th>7834</th>\n",
       "      <td>5.642722e-05</td>\n",
       "      <td>0.118931</td>\n",
       "    </tr>\n",
       "    <tr>\n",
       "      <th>7835</th>\n",
       "      <td>5.440802e-05</td>\n",
       "      <td>0.118909</td>\n",
       "    </tr>\n",
       "    <tr>\n",
       "      <th>7836</th>\n",
       "      <td>3.888680e-09</td>\n",
       "      <td>0.117007</td>\n",
       "    </tr>\n",
       "  </tbody>\n",
       "</table>\n",
       "<p>7837 rows × 2 columns</p>\n",
       "</div>"
      ],
      "text/plain": [
       "        Thresholds  Accuracy\n",
       "814   4.851707e-01  0.887815\n",
       "815   4.850184e-01  0.887793\n",
       "812   4.855776e-01  0.887793\n",
       "813   4.853018e-01  0.887793\n",
       "806   4.864249e-01  0.887771\n",
       "...            ...       ...\n",
       "7832  4.616320e-04  0.122824\n",
       "7833  4.589572e-04  0.122802\n",
       "7834  5.642722e-05  0.118931\n",
       "7835  5.440802e-05  0.118909\n",
       "7836  3.888680e-09  0.117007\n",
       "\n",
       "[7837 rows x 2 columns]"
      ]
     },
     "execution_count": 39,
     "metadata": {},
     "output_type": "execute_result"
    }
   ],
   "source": [
    "# creating table for accuracies according to their thresholds\n",
    "from sklearn.metrics import accuracy_score\n",
    "accuracy_ls = []\n",
    "for thres in thresholds:\n",
    "    y_pred = np.where(classifier.predict_proba(X)[:,1]>thres,1,0)\n",
    "    accuracy_ls.append(accuracy_score(Y,y_pred,normalize=True))\n",
    "\n",
    "accuracy_ls = pd.concat([pd.Series(thresholds),pd.Series(accuracy_ls)],axis=1)\n",
    "accuracy_ls.columns = ['Thresholds','Accuracy']\n",
    "accuracy_ls.sort_values(by='Accuracy',ascending=False,inplace=True)\n",
    "accuracy_ls"
   ]
  },
  {
   "cell_type": "code",
   "execution_count": 40,
   "id": "dfcb8dcc",
   "metadata": {
    "ExecuteTime": {
     "end_time": "2023-05-13T04:46:00.181431Z",
     "start_time": "2023-05-13T04:46:00.149967Z"
    }
   },
   "outputs": [
    {
     "name": "stdout",
     "output_type": "stream",
     "text": [
      "Best Threshold: 0.118828\n"
     ]
    }
   ],
   "source": [
    "# to get the best threshold \n",
    "from numpy import argmax\n",
    "a = tpr - fpr\n",
    "b = argmax(a)\n",
    "best_thresh = thresholds[b]\n",
    "print(\"Best Threshold: %f\" %(best_thresh))"
   ]
  },
  {
   "cell_type": "code",
   "execution_count": 41,
   "id": "6f48a2e3",
   "metadata": {
    "ExecuteTime": {
     "end_time": "2023-05-13T04:46:00.246839Z",
     "start_time": "2023-05-13T04:46:00.186091Z"
    }
   },
   "outputs": [
    {
     "data": {
      "text/plain": [
       "0.7403629813056997"
      ]
     },
     "execution_count": 41,
     "metadata": {},
     "output_type": "execute_result"
    }
   ],
   "source": [
    "# to print accuracy using the best threshold \n",
    "threshold = 0.118807\n",
    "preds = np.where(classifier.predict_proba(X)[:,1]>threshold,1,0)\n",
    "roc_auc_score(Y,preds)"
   ]
  },
  {
   "cell_type": "raw",
   "id": "f51e3756",
   "metadata": {
    "ExecuteTime": {
     "end_time": "2023-05-11T05:40:22.871564Z",
     "start_time": "2023-05-11T05:40:22.846874Z"
    }
   },
   "source": [
    "Thus, the roc_accuracy of the model has increased from 57% to 74%."
   ]
  },
  {
   "cell_type": "markdown",
   "id": "fc6e9342",
   "metadata": {},
   "source": [
    "### Conclusion\n",
    "    There's a huge number of clients who are without subscription for the term deposit. \n",
    "    Those who have subscribed for the deposit belong to middle-age.\n",
    "    There are many clients who have housing and personal loans but without the subscription of the term deposit."
   ]
  },
  {
   "cell_type": "raw",
   "id": "9c1d2abb",
   "metadata": {},
   "source": []
  }
 ],
 "metadata": {
  "kernelspec": {
   "display_name": "Python 3 (ipykernel)",
   "language": "python",
   "name": "python3"
  },
  "language_info": {
   "codemirror_mode": {
    "name": "ipython",
    "version": 3
   },
   "file_extension": ".py",
   "mimetype": "text/x-python",
   "name": "python",
   "nbconvert_exporter": "python",
   "pygments_lexer": "ipython3",
   "version": "3.9.12"
  }
 },
 "nbformat": 4,
 "nbformat_minor": 5
}
